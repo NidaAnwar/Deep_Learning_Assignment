{
  "nbformat": 4,
  "nbformat_minor": 0,
  "metadata": {
    "colab": {
      "name": "PIAIC-89896_Nida_Concrete_Strength.ipynb",
      "provenance": [],
      "collapsed_sections": []
    },
    "kernelspec": {
      "name": "python3",
      "display_name": "Python 3"
    },
    "language_info": {
      "name": "python"
    },
    "accelerator": "TPU"
  },
  "cells": [
    {
      "cell_type": "markdown",
      "metadata": {
        "id": "UFfoNZGdgt7L"
      },
      "source": [
        "Concrete_Strength"
      ]
    },
    {
      "cell_type": "code",
      "metadata": {
        "id": "a5dmHLHbvQsX"
      },
      "source": [
        "import numpy as np\n",
        "import pandas as pd\n",
        "import matplotlib.pyplot as plt\n",
        "import seaborn as sns\n",
        "import tensorflow as tf\n",
        "from tensorflow.keras.models import Sequential\n",
        "from tensorflow.keras.layers import Dense\n",
        "from tensorflow.keras.optimizers import Adam,SGD"
      ],
      "execution_count": 30,
      "outputs": []
    },
    {
      "cell_type": "code",
      "metadata": {
        "id": "zhZvJCFYvalu",
        "colab": {
          "base_uri": "https://localhost:8080/",
          "height": 203
        },
        "outputId": "203fcb1f-cfca-41ef-c4ee-0dbcdf47bd5b"
      },
      "source": [
        "# Load Data\n",
        "data = pd.read_csv(\"/content/drive/MyDrive/compresive_strength_concrete.txt\")\n",
        "data.head(3)"
      ],
      "execution_count": 31,
      "outputs": [
        {
          "output_type": "execute_result",
          "data": {
            "text/html": [
              "<div>\n",
              "<style scoped>\n",
              "    .dataframe tbody tr th:only-of-type {\n",
              "        vertical-align: middle;\n",
              "    }\n",
              "\n",
              "    .dataframe tbody tr th {\n",
              "        vertical-align: top;\n",
              "    }\n",
              "\n",
              "    .dataframe thead th {\n",
              "        text-align: right;\n",
              "    }\n",
              "</style>\n",
              "<table border=\"1\" class=\"dataframe\">\n",
              "  <thead>\n",
              "    <tr style=\"text-align: right;\">\n",
              "      <th></th>\n",
              "      <th>Cement (component 1)(kg in a m^3 mixture)</th>\n",
              "      <th>Blast Furnace Slag (component 2)(kg in a m^3 mixture)</th>\n",
              "      <th>Fly Ash (component 3)(kg in a m^3 mixture)</th>\n",
              "      <th>Water  (component 4)(kg in a m^3 mixture)</th>\n",
              "      <th>Superplasticizer (component 5)(kg in a m^3 mixture)</th>\n",
              "      <th>Coarse Aggregate  (component 6)(kg in a m^3 mixture)</th>\n",
              "      <th>Fine Aggregate (component 7)(kg in a m^3 mixture)</th>\n",
              "      <th>Age (day)</th>\n",
              "      <th>Concrete compressive strength(MPa, megapascals)</th>\n",
              "    </tr>\n",
              "  </thead>\n",
              "  <tbody>\n",
              "    <tr>\n",
              "      <th>0</th>\n",
              "      <td>540.0</td>\n",
              "      <td>0.0</td>\n",
              "      <td>0.0</td>\n",
              "      <td>162.0</td>\n",
              "      <td>2.5</td>\n",
              "      <td>1040.0</td>\n",
              "      <td>676.0</td>\n",
              "      <td>28</td>\n",
              "      <td>79.99</td>\n",
              "    </tr>\n",
              "    <tr>\n",
              "      <th>1</th>\n",
              "      <td>540.0</td>\n",
              "      <td>0.0</td>\n",
              "      <td>0.0</td>\n",
              "      <td>162.0</td>\n",
              "      <td>2.5</td>\n",
              "      <td>1055.0</td>\n",
              "      <td>676.0</td>\n",
              "      <td>28</td>\n",
              "      <td>61.89</td>\n",
              "    </tr>\n",
              "    <tr>\n",
              "      <th>2</th>\n",
              "      <td>332.5</td>\n",
              "      <td>142.5</td>\n",
              "      <td>0.0</td>\n",
              "      <td>228.0</td>\n",
              "      <td>0.0</td>\n",
              "      <td>932.0</td>\n",
              "      <td>594.0</td>\n",
              "      <td>270</td>\n",
              "      <td>40.27</td>\n",
              "    </tr>\n",
              "  </tbody>\n",
              "</table>\n",
              "</div>"
            ],
            "text/plain": [
              "   Cement (component 1)(kg in a m^3 mixture)  ...  Concrete compressive strength(MPa, megapascals) \n",
              "0                                      540.0  ...                                             79.99\n",
              "1                                      540.0  ...                                             61.89\n",
              "2                                      332.5  ...                                             40.27\n",
              "\n",
              "[3 rows x 9 columns]"
            ]
          },
          "metadata": {
            "tags": []
          },
          "execution_count": 31
        }
      ]
    },
    {
      "cell_type": "code",
      "metadata": {
        "id": "ZKrxonoTv-p0",
        "colab": {
          "base_uri": "https://localhost:8080/"
        },
        "outputId": "e76b293e-e743-48cd-ed25-dc406de9ebcc"
      },
      "source": [
        "data.shape"
      ],
      "execution_count": 32,
      "outputs": [
        {
          "output_type": "execute_result",
          "data": {
            "text/plain": [
              "(1030, 9)"
            ]
          },
          "metadata": {
            "tags": []
          },
          "execution_count": 32
        }
      ]
    },
    {
      "cell_type": "code",
      "metadata": {
        "id": "mo1hN8CxwAqs",
        "colab": {
          "base_uri": "https://localhost:8080/"
        },
        "outputId": "1b02c19e-169e-48f4-fda3-8a25ee976b21"
      },
      "source": [
        "data.info()"
      ],
      "execution_count": 33,
      "outputs": [
        {
          "output_type": "stream",
          "text": [
            "<class 'pandas.core.frame.DataFrame'>\n",
            "RangeIndex: 1030 entries, 0 to 1029\n",
            "Data columns (total 9 columns):\n",
            " #   Column                                                 Non-Null Count  Dtype  \n",
            "---  ------                                                 --------------  -----  \n",
            " 0   Cement (component 1)(kg in a m^3 mixture)              1030 non-null   float64\n",
            " 1   Blast Furnace Slag (component 2)(kg in a m^3 mixture)  1030 non-null   float64\n",
            " 2   Fly Ash (component 3)(kg in a m^3 mixture)             1030 non-null   float64\n",
            " 3   Water  (component 4)(kg in a m^3 mixture)              1030 non-null   float64\n",
            " 4   Superplasticizer (component 5)(kg in a m^3 mixture)    1030 non-null   float64\n",
            " 5   Coarse Aggregate  (component 6)(kg in a m^3 mixture)   1030 non-null   float64\n",
            " 6   Fine Aggregate (component 7)(kg in a m^3 mixture)      1030 non-null   float64\n",
            " 7   Age (day)                                              1030 non-null   int64  \n",
            " 8   Concrete compressive strength(MPa, megapascals)        1030 non-null   float64\n",
            "dtypes: float64(8), int64(1)\n",
            "memory usage: 72.5 KB\n"
          ],
          "name": "stdout"
        }
      ]
    },
    {
      "cell_type": "code",
      "metadata": {
        "id": "mnRjsU4VwCen",
        "colab": {
          "base_uri": "https://localhost:8080/",
          "height": 405
        },
        "outputId": "7e67c592-5dee-47bc-f630-aa6e761b6027"
      },
      "source": [
        "data.describe()"
      ],
      "execution_count": 34,
      "outputs": [
        {
          "output_type": "execute_result",
          "data": {
            "text/html": [
              "<div>\n",
              "<style scoped>\n",
              "    .dataframe tbody tr th:only-of-type {\n",
              "        vertical-align: middle;\n",
              "    }\n",
              "\n",
              "    .dataframe tbody tr th {\n",
              "        vertical-align: top;\n",
              "    }\n",
              "\n",
              "    .dataframe thead th {\n",
              "        text-align: right;\n",
              "    }\n",
              "</style>\n",
              "<table border=\"1\" class=\"dataframe\">\n",
              "  <thead>\n",
              "    <tr style=\"text-align: right;\">\n",
              "      <th></th>\n",
              "      <th>Cement (component 1)(kg in a m^3 mixture)</th>\n",
              "      <th>Blast Furnace Slag (component 2)(kg in a m^3 mixture)</th>\n",
              "      <th>Fly Ash (component 3)(kg in a m^3 mixture)</th>\n",
              "      <th>Water  (component 4)(kg in a m^3 mixture)</th>\n",
              "      <th>Superplasticizer (component 5)(kg in a m^3 mixture)</th>\n",
              "      <th>Coarse Aggregate  (component 6)(kg in a m^3 mixture)</th>\n",
              "      <th>Fine Aggregate (component 7)(kg in a m^3 mixture)</th>\n",
              "      <th>Age (day)</th>\n",
              "      <th>Concrete compressive strength(MPa, megapascals)</th>\n",
              "    </tr>\n",
              "  </thead>\n",
              "  <tbody>\n",
              "    <tr>\n",
              "      <th>count</th>\n",
              "      <td>1030.000000</td>\n",
              "      <td>1030.000000</td>\n",
              "      <td>1030.000000</td>\n",
              "      <td>1030.000000</td>\n",
              "      <td>1030.000000</td>\n",
              "      <td>1030.000000</td>\n",
              "      <td>1030.000000</td>\n",
              "      <td>1030.000000</td>\n",
              "      <td>1030.000000</td>\n",
              "    </tr>\n",
              "    <tr>\n",
              "      <th>mean</th>\n",
              "      <td>281.167864</td>\n",
              "      <td>73.895825</td>\n",
              "      <td>54.188350</td>\n",
              "      <td>181.567282</td>\n",
              "      <td>6.204660</td>\n",
              "      <td>972.918932</td>\n",
              "      <td>773.580485</td>\n",
              "      <td>45.662136</td>\n",
              "      <td>35.817961</td>\n",
              "    </tr>\n",
              "    <tr>\n",
              "      <th>std</th>\n",
              "      <td>104.506364</td>\n",
              "      <td>86.279342</td>\n",
              "      <td>63.997004</td>\n",
              "      <td>21.354219</td>\n",
              "      <td>5.973841</td>\n",
              "      <td>77.753954</td>\n",
              "      <td>80.175980</td>\n",
              "      <td>63.169912</td>\n",
              "      <td>16.705742</td>\n",
              "    </tr>\n",
              "    <tr>\n",
              "      <th>min</th>\n",
              "      <td>102.000000</td>\n",
              "      <td>0.000000</td>\n",
              "      <td>0.000000</td>\n",
              "      <td>121.800000</td>\n",
              "      <td>0.000000</td>\n",
              "      <td>801.000000</td>\n",
              "      <td>594.000000</td>\n",
              "      <td>1.000000</td>\n",
              "      <td>2.330000</td>\n",
              "    </tr>\n",
              "    <tr>\n",
              "      <th>25%</th>\n",
              "      <td>192.375000</td>\n",
              "      <td>0.000000</td>\n",
              "      <td>0.000000</td>\n",
              "      <td>164.900000</td>\n",
              "      <td>0.000000</td>\n",
              "      <td>932.000000</td>\n",
              "      <td>730.950000</td>\n",
              "      <td>7.000000</td>\n",
              "      <td>23.710000</td>\n",
              "    </tr>\n",
              "    <tr>\n",
              "      <th>50%</th>\n",
              "      <td>272.900000</td>\n",
              "      <td>22.000000</td>\n",
              "      <td>0.000000</td>\n",
              "      <td>185.000000</td>\n",
              "      <td>6.400000</td>\n",
              "      <td>968.000000</td>\n",
              "      <td>779.500000</td>\n",
              "      <td>28.000000</td>\n",
              "      <td>34.445000</td>\n",
              "    </tr>\n",
              "    <tr>\n",
              "      <th>75%</th>\n",
              "      <td>350.000000</td>\n",
              "      <td>142.950000</td>\n",
              "      <td>118.300000</td>\n",
              "      <td>192.000000</td>\n",
              "      <td>10.200000</td>\n",
              "      <td>1029.400000</td>\n",
              "      <td>824.000000</td>\n",
              "      <td>56.000000</td>\n",
              "      <td>46.135000</td>\n",
              "    </tr>\n",
              "    <tr>\n",
              "      <th>max</th>\n",
              "      <td>540.000000</td>\n",
              "      <td>359.400000</td>\n",
              "      <td>200.100000</td>\n",
              "      <td>247.000000</td>\n",
              "      <td>32.200000</td>\n",
              "      <td>1145.000000</td>\n",
              "      <td>992.600000</td>\n",
              "      <td>365.000000</td>\n",
              "      <td>82.600000</td>\n",
              "    </tr>\n",
              "  </tbody>\n",
              "</table>\n",
              "</div>"
            ],
            "text/plain": [
              "       Cement (component 1)(kg in a m^3 mixture)  ...  Concrete compressive strength(MPa, megapascals) \n",
              "count                                1030.000000  ...                                       1030.000000\n",
              "mean                                  281.167864  ...                                         35.817961\n",
              "std                                   104.506364  ...                                         16.705742\n",
              "min                                   102.000000  ...                                          2.330000\n",
              "25%                                   192.375000  ...                                         23.710000\n",
              "50%                                   272.900000  ...                                         34.445000\n",
              "75%                                   350.000000  ...                                         46.135000\n",
              "max                                   540.000000  ...                                         82.600000\n",
              "\n",
              "[8 rows x 9 columns]"
            ]
          },
          "metadata": {
            "tags": []
          },
          "execution_count": 34
        }
      ]
    },
    {
      "cell_type": "code",
      "metadata": {
        "id": "eaXKGGU_0Lwv",
        "colab": {
          "base_uri": "https://localhost:8080/"
        },
        "outputId": "1a63d8dc-64fc-4bf5-a482-2865111edf7e"
      },
      "source": [
        "data.columns"
      ],
      "execution_count": 35,
      "outputs": [
        {
          "output_type": "execute_result",
          "data": {
            "text/plain": [
              "Index(['Cement (component 1)(kg in a m^3 mixture)',\n",
              "       'Blast Furnace Slag (component 2)(kg in a m^3 mixture)',\n",
              "       'Fly Ash (component 3)(kg in a m^3 mixture)',\n",
              "       'Water  (component 4)(kg in a m^3 mixture)',\n",
              "       'Superplasticizer (component 5)(kg in a m^3 mixture)',\n",
              "       'Coarse Aggregate  (component 6)(kg in a m^3 mixture)',\n",
              "       'Fine Aggregate (component 7)(kg in a m^3 mixture)', 'Age (day)',\n",
              "       'Concrete compressive strength(MPa, megapascals) '],\n",
              "      dtype='object')"
            ]
          },
          "metadata": {
            "tags": []
          },
          "execution_count": 35
        }
      ]
    },
    {
      "cell_type": "code",
      "metadata": {
        "id": "OvB0zBmP0QQ5",
        "colab": {
          "base_uri": "https://localhost:8080/"
        },
        "outputId": "55390942-28f6-4482-ac42-d54d7f8fbcae"
      },
      "source": [
        "data.isnull().sum()"
      ],
      "execution_count": 36,
      "outputs": [
        {
          "output_type": "execute_result",
          "data": {
            "text/plain": [
              "Cement (component 1)(kg in a m^3 mixture)                0\n",
              "Blast Furnace Slag (component 2)(kg in a m^3 mixture)    0\n",
              "Fly Ash (component 3)(kg in a m^3 mixture)               0\n",
              "Water  (component 4)(kg in a m^3 mixture)                0\n",
              "Superplasticizer (component 5)(kg in a m^3 mixture)      0\n",
              "Coarse Aggregate  (component 6)(kg in a m^3 mixture)     0\n",
              "Fine Aggregate (component 7)(kg in a m^3 mixture)        0\n",
              "Age (day)                                                0\n",
              "Concrete compressive strength(MPa, megapascals)          0\n",
              "dtype: int64"
            ]
          },
          "metadata": {
            "tags": []
          },
          "execution_count": 36
        }
      ]
    },
    {
      "cell_type": "code",
      "metadata": {
        "id": "0gw9p-3O0fK1",
        "colab": {
          "base_uri": "https://localhost:8080/",
          "height": 1000
        },
        "outputId": "1efcc6e4-a27f-4cfc-f135-b25f35f83d6b"
      },
      "source": [
        "correlation=data.corr()\n",
        "top_corr_features=correlation.index\n",
        "plt.figure(figsize=(20,20))\n",
        "a=sns.heatmap(data[top_corr_features].corr(),annot=True,cmap=\"RdYlGn\")"
      ],
      "execution_count": 37,
      "outputs": [
        {
          "output_type": "display_data",
          "data": {
            "image/png": "[encoded data removed]",
            "text/plain": [
              "<Figure size 1440x1440 with 2 Axes>"
            ]
          },
          "metadata": {
            "tags": [],
            "needs_background": "light"
          }
        }
      ]
    },
    {
      "cell_type": "code",
      "metadata": {
        "id": "Daew_HFg4wLu",
        "colab": {
          "base_uri": "https://localhost:8080/",
          "height": 153
        },
        "outputId": "897595ce-7bdc-4d8f-e40f-7ab0fa4176cf"
      },
      "source": [
        "data1=data[['Cement (component 1)(kg in a m^3 mixture)','Superplasticizer (component 5)(kg in a m^3 mixture)','Age (day)','Concrete compressive strength(MPa, megapascals) ']]\n",
        "data1.head(3)"
      ],
      "execution_count": 38,
      "outputs": [
        {
          "output_type": "execute_result",
          "data": {
            "text/html": [
              "<div>\n",
              "<style scoped>\n",
              "    .dataframe tbody tr th:only-of-type {\n",
              "        vertical-align: middle;\n",
              "    }\n",
              "\n",
              "    .dataframe tbody tr th {\n",
              "        vertical-align: top;\n",
              "    }\n",
              "\n",
              "    .dataframe thead th {\n",
              "        text-align: right;\n",
              "    }\n",
              "</style>\n",
              "<table border=\"1\" class=\"dataframe\">\n",
              "  <thead>\n",
              "    <tr style=\"text-align: right;\">\n",
              "      <th></th>\n",
              "      <th>Cement (component 1)(kg in a m^3 mixture)</th>\n",
              "      <th>Superplasticizer (component 5)(kg in a m^3 mixture)</th>\n",
              "      <th>Age (day)</th>\n",
              "      <th>Concrete compressive strength(MPa, megapascals)</th>\n",
              "    </tr>\n",
              "  </thead>\n",
              "  <tbody>\n",
              "    <tr>\n",
              "      <th>0</th>\n",
              "      <td>540.0</td>\n",
              "      <td>2.5</td>\n",
              "      <td>28</td>\n",
              "      <td>79.99</td>\n",
              "    </tr>\n",
              "    <tr>\n",
              "      <th>1</th>\n",
              "      <td>540.0</td>\n",
              "      <td>2.5</td>\n",
              "      <td>28</td>\n",
              "      <td>61.89</td>\n",
              "    </tr>\n",
              "    <tr>\n",
              "      <th>2</th>\n",
              "      <td>332.5</td>\n",
              "      <td>0.0</td>\n",
              "      <td>270</td>\n",
              "      <td>40.27</td>\n",
              "    </tr>\n",
              "  </tbody>\n",
              "</table>\n",
              "</div>"
            ],
            "text/plain": [
              "   Cement (component 1)(kg in a m^3 mixture)  ...  Concrete compressive strength(MPa, megapascals) \n",
              "0                                      540.0  ...                                             79.99\n",
              "1                                      540.0  ...                                             61.89\n",
              "2                                      332.5  ...                                             40.27\n",
              "\n",
              "[3 rows x 4 columns]"
            ]
          },
          "metadata": {
            "tags": []
          },
          "execution_count": 38
        }
      ]
    },
    {
      "cell_type": "code",
      "metadata": {
        "id": "CfLvBFM8Bvr5"
      },
      "source": [
        "# Split Data\n",
        "X=data1[['Cement (component 1)(kg in a m^3 mixture)','Superplasticizer (component 5)(kg in a m^3 mixture)','Age (day)']]\n",
        "Y=data1[['Concrete compressive strength(MPa, megapascals) ']]\n",
        "from sklearn.model_selection import train_test_split\n",
        "X_train,X_test,Y_train,Y_test= train_test_split(X,Y,test_size=0.30,random_state=8)"
      ],
      "execution_count": 39,
      "outputs": []
    },
    {
      "cell_type": "code",
      "metadata": {
        "id": "UikG-F5JanNP"
      },
      "source": [
        "# Normalizing train and test data data\n",
        "mean = X_train.mean(axis=0)\n",
        "X_train-= mean\n",
        "std = X_train.std(axis=0)\n",
        "X_train /= std\n",
        "\n",
        "mean = Y_train.mean(axis=0)\n",
        "Y_train-= mean\n",
        "std = Y_train.std(axis=0)\n",
        "Y_train /= std\n",
        "\n",
        "mean = X_test.mean(axis=0)\n",
        "X_test-= mean\n",
        "std = X_test.std(axis=0)\n",
        "X_test /= std\n",
        "\n",
        "mean = Y_test.mean(axis=0)\n",
        "Y_test-= mean\n",
        "std = Y_test.std(axis=0)\n",
        "Y_test/= std"
      ],
      "execution_count": 40,
      "outputs": []
    },
    {
      "cell_type": "code",
      "metadata": {
        "id": "9KP5DVdPWT-m",
        "colab": {
          "base_uri": "https://localhost:8080/"
        },
        "outputId": "029768bd-991c-400f-a2a6-1fdef26fdd23"
      },
      "source": [
        "X_train.shape"
      ],
      "execution_count": 41,
      "outputs": [
        {
          "output_type": "execute_result",
          "data": {
            "text/plain": [
              "(721, 3)"
            ]
          },
          "metadata": {
            "tags": []
          },
          "execution_count": 41
        }
      ]
    },
    {
      "cell_type": "code",
      "metadata": {
        "colab": {
          "base_uri": "https://localhost:8080/"
        },
        "id": "zlGxFk8GCWx4",
        "outputId": "12a2826a-8827-4ee6-8372-fbfdbe34b651"
      },
      "source": [
        "X_test.shape"
      ],
      "execution_count": 42,
      "outputs": [
        {
          "output_type": "execute_result",
          "data": {
            "text/plain": [
              "(309, 3)"
            ]
          },
          "metadata": {
            "tags": []
          },
          "execution_count": 42
        }
      ]
    },
    {
      "cell_type": "code",
      "metadata": {
        "colab": {
          "base_uri": "https://localhost:8080/"
        },
        "id": "tPY68ILUCbT1",
        "outputId": "11be0ecd-cc04-48ad-d54d-57413be26f9d"
      },
      "source": [
        "Y_train.shape"
      ],
      "execution_count": 43,
      "outputs": [
        {
          "output_type": "execute_result",
          "data": {
            "text/plain": [
              "(721, 1)"
            ]
          },
          "metadata": {
            "tags": []
          },
          "execution_count": 43
        }
      ]
    },
    {
      "cell_type": "code",
      "metadata": {
        "colab": {
          "base_uri": "https://localhost:8080/"
        },
        "id": "HdTZe_sLChQu",
        "outputId": "c299f0f3-da63-4e6e-d09b-1158896bbf46"
      },
      "source": [
        "Y_test.shape"
      ],
      "execution_count": 44,
      "outputs": [
        {
          "output_type": "execute_result",
          "data": {
            "text/plain": [
              "(309, 1)"
            ]
          },
          "metadata": {
            "tags": []
          },
          "execution_count": 44
        }
      ]
    },
    {
      "cell_type": "code",
      "metadata": {
        "id": "2CzqUaXlZ3I0"
      },
      "source": [
        "def build_model():\n",
        "      model = Sequential()\n",
        "      model.add(tf.keras.layers.Dense(64, activation='relu',input_shape=(X_train.shape[1],)))\n",
        "      model.add(tf.keras.layers.Dense(8, activation='relu'))\n",
        "      model.add(tf.keras.layers.Dense(6, activation='relu'))\n",
        "      model.add(tf.keras.layers.Dense(1))\n",
        "      model.compile(optimizer='rmsprop',loss='mse', metrics=['mae'])\n",
        "      return model"
      ],
      "execution_count": 45,
      "outputs": []
    },
    {
      "cell_type": "code",
      "metadata": {
        "id": "n61ZTWwVct69",
        "colab": {
          "base_uri": "https://localhost:8080/"
        },
        "outputId": "efc9064c-271b-4e54-d14a-74bf8cb20a48"
      },
      "source": [
        "# Validation\n",
        "k=5\n",
        "num_val_samples = len(X_train) // k\n",
        "num_epochs = 100\n",
        "all_scores = []\n",
        "\n",
        "all_mae_histories = []\n",
        "for i in range(k):\n",
        "    print('processing fold #', i)\n",
        "    X_val =X_train[i * num_val_samples: (i + 1) * num_val_samples]\n",
        "    Y_val = Y_train[i * num_val_samples: (i + 1) * num_val_samples]\n",
        "    \n",
        "    partial_X_train = np.concatenate(\n",
        "        [X_train[:i * num_val_samples],\n",
        "         X_train[(i + 1) * num_val_samples:]],\n",
        "        axis=0)\n",
        "    \n",
        "    partial_Y_train = np.concatenate(\n",
        "        [Y_train[:i * num_val_samples],\n",
        "         Y_train[(i + 1) * num_val_samples:]],\n",
        "        axis=0)\n",
        "    \n",
        "    \n",
        "model = build_model()\n",
        "history = model.fit(partial_X_train, partial_Y_train,\n",
        "                    validation_data=(X_val, Y_val),\n",
        "                    epochs=num_epochs, batch_size=1, verbose=0)\n",
        "mae_history = history.history['val_mae']\n",
        "all_mae_histories.append(mae_history)"
      ],
      "execution_count": 29,
      "outputs": [
        {
          "output_type": "stream",
          "text": [
            "processing fold # 0\n",
            "processing fold # 1\n",
            "processing fold # 2\n",
            "processing fold # 3\n",
            "processing fold # 4\n"
          ],
          "name": "stdout"
        }
      ]
    },
    {
      "cell_type": "code",
      "metadata": {
        "id": "8XIa3eqtdDTg",
        "colab": {
          "base_uri": "https://localhost:8080/"
        },
        "outputId": "6819f535-39e2-4e69-9896-065310da29ca"
      },
      "source": [
        "history.history.keys()"
      ],
      "execution_count": 46,
      "outputs": [
        {
          "output_type": "execute_result",
          "data": {
            "text/plain": [
              "dict_keys(['loss', 'mae', 'val_loss', 'val_mae'])"
            ]
          },
          "metadata": {
            "tags": []
          },
          "execution_count": 46
        }
      ]
    },
    {
      "cell_type": "markdown",
      "metadata": {
        "id": "eAG5bofFdW1v"
      },
      "source": [
        "Building the history of successive mean K-fold validation scores\n"
      ]
    },
    {
      "cell_type": "code",
      "metadata": {
        "id": "6KVIyd42dZaS"
      },
      "source": [
        "average_mae_history = [\n",
        "np.mean([x[i] for x in all_mae_histories]) for i in range(num_epochs)]"
      ],
      "execution_count": 47,
      "outputs": []
    },
    {
      "cell_type": "code",
      "metadata": {
        "id": "HC4KFzM0dhjG",
        "colab": {
          "base_uri": "https://localhost:8080/"
        },
        "outputId": "6f7b24a7-e270-4a20-8d51-316644d2304b"
      },
      "source": [
        "average_mae_history"
      ],
      "execution_count": 48,
      "outputs": [
        {
          "output_type": "execute_result",
          "data": {
            "text/plain": [
              "[0.4971212148666382,\n",
              " 0.4371243715286255,\n",
              " 0.43850982189178467,\n",
              " 0.4389914870262146,\n",
              " 0.4623308777809143,\n",
              " 0.4487224221229553,\n",
              " 0.4352794885635376,\n",
              " 0.4156735837459564,\n",
              " 0.457180917263031,\n",
              " 0.4346155524253845,\n",
              " 0.4188656806945801,\n",
              " 0.42645323276519775,\n",
              " 0.42104607820510864,\n",
              " 0.42753949761390686,\n",
              " 0.46590328216552734,\n",
              " 0.4436190128326416,\n",
              " 0.4278855621814728,\n",
              " 0.42165499925613403,\n",
              " 0.42193493247032166,\n",
              " 0.4328407049179077,\n",
              " 0.43117421865463257,\n",
              " 0.41709768772125244,\n",
              " 0.43288883566856384,\n",
              " 0.41328784823417664,\n",
              " 0.42215800285339355,\n",
              " 0.4273073971271515,\n",
              " 0.4171375334262848,\n",
              " 0.42960333824157715,\n",
              " 0.4348198175430298,\n",
              " 0.43028324842453003,\n",
              " 0.4689963161945343,\n",
              " 0.43490827083587646,\n",
              " 0.42707082629203796,\n",
              " 0.449088990688324,\n",
              " 0.4281715154647827,\n",
              " 0.4343264698982239,\n",
              " 0.42848527431488037,\n",
              " 0.4082053601741791,\n",
              " 0.41772493720054626,\n",
              " 0.4270203709602356,\n",
              " 0.42367884516716003,\n",
              " 0.43803393840789795,\n",
              " 0.41050785779953003,\n",
              " 0.4315858781337738,\n",
              " 0.4452133774757385,\n",
              " 0.4310711622238159,\n",
              " 0.43769538402557373,\n",
              " 0.42263680696487427,\n",
              " 0.4213305711746216,\n",
              " 0.431942343711853,\n",
              " 0.4290635585784912,\n",
              " 0.42245209217071533,\n",
              " 0.4623548686504364,\n",
              " 0.4486132860183716,\n",
              " 0.4453209638595581,\n",
              " 0.4380742311477661,\n",
              " 0.43350669741630554,\n",
              " 0.44705644249916077,\n",
              " 0.4111374318599701,\n",
              " 0.46566376090049744,\n",
              " 0.4309123158454895,\n",
              " 0.42953431606292725,\n",
              " 0.42290160059928894,\n",
              " 0.420601487159729,\n",
              " 0.4366198778152466,\n",
              " 0.4151392877101898,\n",
              " 0.4347594380378723,\n",
              " 0.4545224905014038,\n",
              " 0.4179985523223877,\n",
              " 0.43198683857917786,\n",
              " 0.43795526027679443,\n",
              " 0.4295808672904968,\n",
              " 0.41440680623054504,\n",
              " 0.431628942489624,\n",
              " 0.49376732110977173,\n",
              " 0.41510042548179626,\n",
              " 0.45845550298690796,\n",
              " 0.42312291264533997,\n",
              " 0.42840176820755005,\n",
              " 0.4438202977180481,\n",
              " 0.4326857626438141,\n",
              " 0.4149649441242218,\n",
              " 0.42311108112335205,\n",
              " 0.43332239985466003,\n",
              " 0.4150804281234741,\n",
              " 0.41730010509490967,\n",
              " 0.42856112122535706,\n",
              " 0.4738670587539673,\n",
              " 0.4109014570713043,\n",
              " 0.41247808933258057,\n",
              " 0.422421932220459,\n",
              " 0.4307262599468231,\n",
              " 0.43946710228919983,\n",
              " 0.4409831762313843,\n",
              " 0.4460948705673218,\n",
              " 0.4504411518573761,\n",
              " 0.42769989371299744,\n",
              " 0.4344784915447235,\n",
              " 0.4368857145309448,\n",
              " 0.4175321161746979]"
            ]
          },
          "metadata": {
            "tags": []
          },
          "execution_count": 48
        }
      ]
    },
    {
      "cell_type": "markdown",
      "metadata": {
        "id": "oEZuz2aDdwEG"
      },
      "source": [
        "Plotting validation scores"
      ]
    },
    {
      "cell_type": "markdown",
      "metadata": {
        "id": "nonSH3LCdv82"
      },
      "source": [
        ""
      ]
    },
    {
      "cell_type": "code",
      "metadata": {
        "id": "WOkJTQo3dnz2",
        "colab": {
          "base_uri": "https://localhost:8080/",
          "height": 280
        },
        "outputId": "b3c88a5b-c099-4389-fbb6-fd10cc8e8aa3"
      },
      "source": [
        "import matplotlib.pyplot as plt\n",
        "plt.plot(average_mae_history)\n",
        "plt.xlabel('Epochs')\n",
        "plt.ylabel('Validation MAE')\n",
        "plt.show()"
      ],
      "execution_count": 49,
      "outputs": [
        {
          "output_type": "display_data",
          "data": {
            "image/png": "[encoded data removed]",
            "text/plain": [
              "<Figure size 432x288 with 1 Axes>"
            ]
          },
          "metadata": {
            "tags": [],
            "needs_background": "light"
          }
        }
      ]
    },
    {
      "cell_type": "code",
      "metadata": {
        "id": "ZxXuM8_7d8iO",
        "colab": {
          "base_uri": "https://localhost:8080/",
          "height": 280
        },
        "outputId": "b1e45995-e8f5-4bab-dbb3-804560ee7745"
      },
      "source": [
        "import matplotlib.pyplot as plt\n",
        "plt.plot(range(1, len(average_mae_history) + 1), average_mae_history)\n",
        "plt.xlabel('Epochs')\n",
        "plt.ylabel('Validation MAE')\n",
        "plt.show()"
      ],
      "execution_count": 50,
      "outputs": [
        {
          "output_type": "display_data",
          "data": {
            "image/png": "[encoded data removed]",
            "text/plain": [
              "<Figure size 432x288 with 1 Axes>"
            ]
          },
          "metadata": {
            "tags": [],
            "needs_background": "light"
          }
        }
      ]
    },
    {
      "cell_type": "code",
      "metadata": {
        "id": "bKV5gvdSd9Pf",
        "colab": {
          "base_uri": "https://localhost:8080/",
          "height": 279
        },
        "outputId": "0cb8a17d-ac1a-477a-e9e3-46247fa67065"
      },
      "source": [
        "def smooth_curve(points, factor=0.9):\n",
        "    smoothed_points = []\n",
        "    for point in points:\n",
        "        if smoothed_points:\n",
        "            previous = smoothed_points[-1]\n",
        "            smoothed_points.append(previous * factor + point * (1 - factor))\n",
        "        else:\n",
        "            smoothed_points.append(point)\n",
        "    return smoothed_points\n",
        "    \n",
        "smooth_mae_history = smooth_curve(average_mae_history[10:])\n",
        "plt.plot(range(1, len(smooth_mae_history) + 1), smooth_mae_history)\n",
        "plt.xlabel('Epochs')\n",
        "plt.ylabel('Validation MAE')\n",
        "plt.show()"
      ],
      "execution_count": 51,
      "outputs": [
        {
          "output_type": "display_data",
          "data": {
            "image/png": "[encoded data removed]",
            "text/plain": [
              "<Figure size 432x288 with 1 Axes>"
            ]
          },
          "metadata": {
            "tags": [],
            "needs_background": "light"
          }
        }
      ]
    },
    {
      "cell_type": "markdown",
      "metadata": {
        "id": "f_eVttNBeOPz"
      },
      "source": [
        "Training the Final Model"
      ]
    },
    {
      "cell_type": "code",
      "metadata": {
        "id": "eawvwi90eIdb",
        "colab": {
          "base_uri": "https://localhost:8080/"
        },
        "outputId": "5473eb5d-062e-4fff-a446-1f2d3232bbf3"
      },
      "source": [
        "model = build_model()\n",
        "model.fit(X_train, Y_train,\n",
        "          epochs=100, batch_size=16, verbose=0)\n",
        "test_mse_score, test_mae_score = model.evaluate(X_test, Y_test)"
      ],
      "execution_count": 52,
      "outputs": [
        {
          "output_type": "stream",
          "text": [
            "10/10 [==============================] - 0s 2ms/step - loss: 0.2963 - mae: 0.4099\n"
          ],
          "name": "stdout"
        }
      ]
    },
    {
      "cell_type": "code",
      "metadata": {
        "id": "qe_y_bkaeXG1",
        "colab": {
          "base_uri": "https://localhost:8080/"
        },
        "outputId": "c197bff7-ee7f-445d-8395-8292d5405bb9"
      },
      "source": [
        "test_mse_score"
      ],
      "execution_count": 53,
      "outputs": [
        {
          "output_type": "execute_result",
          "data": {
            "text/plain": [
              "0.2962932884693146"
            ]
          },
          "metadata": {
            "tags": []
          },
          "execution_count": 53
        }
      ]
    },
    {
      "cell_type": "code",
      "metadata": {
        "id": "AMc-Y7kNeZwH",
        "colab": {
          "base_uri": "https://localhost:8080/"
        },
        "outputId": "e82defe6-ba33-492a-dacf-b94b7c4157bf"
      },
      "source": [
        "test_mae_score"
      ],
      "execution_count": 54,
      "outputs": [
        {
          "output_type": "execute_result",
          "data": {
            "text/plain": [
              "0.4098994731903076"
            ]
          },
          "metadata": {
            "tags": []
          },
          "execution_count": 54
        }
      ]
    },
    {
      "cell_type": "code",
      "metadata": {
        "id": "p6xyoMagefFc",
        "colab": {
          "base_uri": "https://localhost:8080/"
        },
        "outputId": "8a9501d9-ea74-482a-9016-9270bfeae45e"
      },
      "source": [
        "#Prediction\n",
        "Prediction=model.predict(X_test)\n",
        "Prediction"
      ],
      "execution_count": 55,
      "outputs": [
        {
          "output_type": "execute_result",
          "data": {
            "text/plain": [
              "array([[-1.2964256 ],\n",
              "       [ 0.16111925],\n",
              "       [-0.01998237],\n",
              "       [ 0.28833187],\n",
              "       [-1.2315063 ],\n",
              "       [-1.1673203 ],\n",
              "       [ 0.89044374],\n",
              "       [ 0.17987826],\n",
              "       [ 0.4521569 ],\n",
              "       [ 1.1951077 ],\n",
              "       [ 0.7110895 ],\n",
              "       [ 0.05798993],\n",
              "       [-1.0656496 ],\n",
              "       [-0.5440826 ],\n",
              "       [ 0.9844678 ],\n",
              "       [-0.50405884],\n",
              "       [-0.42699367],\n",
              "       [ 0.5183189 ],\n",
              "       [ 0.41491574],\n",
              "       [-0.01936471],\n",
              "       [ 1.1643026 ],\n",
              "       [-0.57296777],\n",
              "       [ 0.18542632],\n",
              "       [-1.1439713 ],\n",
              "       [ 0.43547016],\n",
              "       [-0.09012903],\n",
              "       [ 0.2974077 ],\n",
              "       [-0.93873197],\n",
              "       [-0.24194743],\n",
              "       [-0.78451955],\n",
              "       [-0.78663296],\n",
              "       [-0.94228816],\n",
              "       [ 0.60612494],\n",
              "       [ 0.40181595],\n",
              "       [-0.80466217],\n",
              "       [-0.9360849 ],\n",
              "       [-1.2938948 ],\n",
              "       [ 0.8934911 ],\n",
              "       [-0.76553035],\n",
              "       [ 0.580048  ],\n",
              "       [ 0.4032749 ],\n",
              "       [-0.18058586],\n",
              "       [ 1.0536847 ],\n",
              "       [-1.4849665 ],\n",
              "       [ 0.01790786],\n",
              "       [-0.49688822],\n",
              "       [-1.263716  ],\n",
              "       [ 1.4845304 ],\n",
              "       [-1.3720367 ],\n",
              "       [-1.0636008 ],\n",
              "       [ 0.4962651 ],\n",
              "       [-0.6855012 ],\n",
              "       [-1.1840677 ],\n",
              "       [-0.7103443 ],\n",
              "       [-0.29827207],\n",
              "       [ 1.5155671 ],\n",
              "       [ 0.45323372],\n",
              "       [-0.5158604 ],\n",
              "       [ 0.6483188 ],\n",
              "       [-0.01670118],\n",
              "       [-0.06014504],\n",
              "       [-0.6541819 ],\n",
              "       [ 0.35643816],\n",
              "       [ 0.10088167],\n",
              "       [ 0.05225807],\n",
              "       [-0.5124006 ],\n",
              "       [-1.4882951 ],\n",
              "       [ 0.40331012],\n",
              "       [ 1.3151906 ],\n",
              "       [ 0.4340663 ],\n",
              "       [ 0.76244646],\n",
              "       [ 0.7110895 ],\n",
              "       [-1.5622122 ],\n",
              "       [ 0.51018846],\n",
              "       [-0.37741935],\n",
              "       [ 1.483578  ],\n",
              "       [-1.2964256 ],\n",
              "       [ 1.6858635 ],\n",
              "       [-0.06776071],\n",
              "       [ 0.77823776],\n",
              "       [ 0.3211496 ],\n",
              "       [-0.77673954],\n",
              "       [-1.2897999 ],\n",
              "       [ 1.0802388 ],\n",
              "       [-0.58904076],\n",
              "       [-0.9047608 ],\n",
              "       [ 0.66592944],\n",
              "       [ 0.22607034],\n",
              "       [ 0.3862518 ],\n",
              "       [-1.3477824 ],\n",
              "       [-0.7104876 ],\n",
              "       [-0.7502459 ],\n",
              "       [ 0.3829295 ],\n",
              "       [ 0.10560706],\n",
              "       [-0.06735224],\n",
              "       [-0.22993787],\n",
              "       [-1.4458358 ],\n",
              "       [ 1.5212202 ],\n",
              "       [ 0.21240592],\n",
              "       [-0.2034699 ],\n",
              "       [-0.8645374 ],\n",
              "       [-0.52149403],\n",
              "       [ 0.22673541],\n",
              "       [ 0.37274814],\n",
              "       [ 0.22607034],\n",
              "       [ 0.31040305],\n",
              "       [ 0.50886196],\n",
              "       [ 0.20206273],\n",
              "       [ 0.31171435],\n",
              "       [-1.3260112 ],\n",
              "       [-1.1760166 ],\n",
              "       [-0.6705466 ],\n",
              "       [-0.8070646 ],\n",
              "       [-0.76617384],\n",
              "       [ 0.25512627],\n",
              "       [-1.5304284 ],\n",
              "       [-1.3993094 ],\n",
              "       [ 0.00244983],\n",
              "       [ 0.15767935],\n",
              "       [ 1.0211804 ],\n",
              "       [ 0.89167136],\n",
              "       [ 0.24557191],\n",
              "       [-0.09012903],\n",
              "       [ 0.7993322 ],\n",
              "       [-0.29358163],\n",
              "       [-0.68162084],\n",
              "       [ 0.29771274],\n",
              "       [ 0.66763085],\n",
              "       [ 0.8579629 ],\n",
              "       [-0.6245853 ],\n",
              "       [-1.1008282 ],\n",
              "       [ 0.40967405],\n",
              "       [-0.35973296],\n",
              "       [-0.06043735],\n",
              "       [-0.32829988],\n",
              "       [ 0.37956077],\n",
              "       [-0.7181013 ],\n",
              "       [ 0.38279134],\n",
              "       [-0.35499656],\n",
              "       [ 0.2552659 ],\n",
              "       [-1.3503101 ],\n",
              "       [-1.4557848 ],\n",
              "       [ 0.4308526 ],\n",
              "       [ 0.42051905],\n",
              "       [-0.73641783],\n",
              "       [-0.76882696],\n",
              "       [ 0.33599287],\n",
              "       [-0.5420908 ],\n",
              "       [-0.7785744 ],\n",
              "       [ 0.1606557 ],\n",
              "       [ 0.57604647],\n",
              "       [ 0.50047237],\n",
              "       [-1.1512846 ],\n",
              "       [ 0.4570173 ],\n",
              "       [-1.1381621 ],\n",
              "       [-1.2940152 ],\n",
              "       [-1.0879352 ],\n",
              "       [ 0.02992722],\n",
              "       [ 1.0609391 ],\n",
              "       [ 0.3118059 ],\n",
              "       [ 0.42851585],\n",
              "       [-0.78442365],\n",
              "       [ 0.200356  ],\n",
              "       [-0.03483316],\n",
              "       [ 0.25558618],\n",
              "       [-0.9007443 ],\n",
              "       [-1.1786089 ],\n",
              "       [-0.7606051 ],\n",
              "       [-1.0821497 ],\n",
              "       [-0.36008096],\n",
              "       [-0.45496446],\n",
              "       [ 1.369271  ],\n",
              "       [ 1.0414302 ],\n",
              "       [ 1.0310347 ],\n",
              "       [-1.3377104 ],\n",
              "       [-1.2920868 ],\n",
              "       [-0.2034699 ],\n",
              "       [ 0.278297  ],\n",
              "       [-1.4310644 ],\n",
              "       [-0.59665966],\n",
              "       [ 0.7993322 ],\n",
              "       [ 0.79069835],\n",
              "       [-1.4446878 ],\n",
              "       [ 0.3585611 ],\n",
              "       [ 1.5383315 ],\n",
              "       [-0.25285533],\n",
              "       [-0.49887422],\n",
              "       [-0.6678964 ],\n",
              "       [ 0.24090189],\n",
              "       [-1.2677238 ],\n",
              "       [ 0.62232614],\n",
              "       [ 0.9306132 ],\n",
              "       [ 0.3879552 ],\n",
              "       [-0.9869255 ],\n",
              "       [ 1.5127916 ],\n",
              "       [ 0.16421238],\n",
              "       [-0.7212012 ],\n",
              "       [ 0.6378855 ],\n",
              "       [ 0.15992749],\n",
              "       [ 1.6167734 ],\n",
              "       [-0.7677265 ],\n",
              "       [-0.01936471],\n",
              "       [-0.86124676],\n",
              "       [ 0.35632175],\n",
              "       [-0.19708854],\n",
              "       [-0.51045   ],\n",
              "       [-0.6809963 ],\n",
              "       [ 1.548362  ],\n",
              "       [ 1.1105449 ],\n",
              "       [-0.2034699 ],\n",
              "       [ 0.6965413 ],\n",
              "       [-1.306067  ],\n",
              "       [-0.42862543],\n",
              "       [ 1.0609391 ],\n",
              "       [ 0.51804227],\n",
              "       [ 0.74620104],\n",
              "       [ 1.0822647 ],\n",
              "       [ 0.67293274],\n",
              "       [ 0.29416382],\n",
              "       [-1.0158564 ],\n",
              "       [-1.2347562 ],\n",
              "       [-0.49677008],\n",
              "       [-0.49132067],\n",
              "       [-1.1162841 ],\n",
              "       [ 0.8865759 ],\n",
              "       [-0.28010616],\n",
              "       [ 0.1620234 ],\n",
              "       [-0.47348955],\n",
              "       [ 0.41981852],\n",
              "       [ 1.369271  ],\n",
              "       [-0.77700454],\n",
              "       [ 0.528427  ],\n",
              "       [ 0.4583463 ],\n",
              "       [ 0.02992722],\n",
              "       [-0.98311806],\n",
              "       [-0.13238785],\n",
              "       [ 0.172102  ],\n",
              "       [ 0.16292754],\n",
              "       [-1.2512994 ],\n",
              "       [-0.7794779 ],\n",
              "       [ 1.1808107 ],\n",
              "       [-0.01670118],\n",
              "       [ 0.16636384],\n",
              "       [ 0.07767701],\n",
              "       [ 1.459729  ],\n",
              "       [ 0.5887531 ],\n",
              "       [-0.78540736],\n",
              "       [-1.1410433 ],\n",
              "       [ 0.12126294],\n",
              "       [-0.03054866],\n",
              "       [ 0.644374  ],\n",
              "       [-0.4729787 ],\n",
              "       [ 0.36144936],\n",
              "       [-0.7092166 ],\n",
              "       [ 0.99343055],\n",
              "       [ 0.79948694],\n",
              "       [-0.17438367],\n",
              "       [ 0.32533032],\n",
              "       [-0.91443026],\n",
              "       [-0.8295744 ],\n",
              "       [-0.49942067],\n",
              "       [ 0.79676884],\n",
              "       [-0.6712377 ],\n",
              "       [-0.20216607],\n",
              "       [-0.6657226 ],\n",
              "       [-0.47014958],\n",
              "       [-1.4909565 ],\n",
              "       [ 0.3884887 ],\n",
              "       [ 0.4340663 ],\n",
              "       [-1.4632196 ],\n",
              "       [-0.7780503 ],\n",
              "       [-1.4260457 ],\n",
              "       [ 0.05603883],\n",
              "       [-0.59665966],\n",
              "       [ 0.38338262],\n",
              "       [-0.6839416 ],\n",
              "       [-1.1780994 ],\n",
              "       [ 0.37436014],\n",
              "       [-0.35499656],\n",
              "       [-1.1508965 ],\n",
              "       [ 1.6852462 ],\n",
              "       [-0.04042014],\n",
              "       [ 0.06422284],\n",
              "       [-0.42436147],\n",
              "       [-1.0117283 ],\n",
              "       [-0.64771533],\n",
              "       [ 0.1663636 ],\n",
              "       [-0.8470971 ],\n",
              "       [-0.29329565],\n",
              "       [-1.2937741 ],\n",
              "       [-0.47326136],\n",
              "       [-1.2771194 ],\n",
              "       [-1.5532362 ],\n",
              "       [ 0.21846217],\n",
              "       [-1.2117872 ],\n",
              "       [-0.32514372],\n",
              "       [-0.15168825],\n",
              "       [-1.0717976 ],\n",
              "       [ 0.6564417 ],\n",
              "       [-0.50559366],\n",
              "       [ 0.6067519 ],\n",
              "       [ 1.2443476 ],\n",
              "       [-0.15593547],\n",
              "       [-0.48022756],\n",
              "       [-0.2674242 ],\n",
              "       [-0.29680562],\n",
              "       [ 0.33724344],\n",
              "       [ 2.0280607 ],\n",
              "       [-1.133589  ]], dtype=float32)"
            ]
          },
          "metadata": {
            "tags": []
          },
          "execution_count": 55
        }
      ]
    },
    {
      "cell_type": "code",
      "metadata": {
        "id": "Yv7mTjkjegIo",
        "colab": {
          "base_uri": "https://localhost:8080/",
          "height": 282
        },
        "outputId": "d5136a27-7f87-4f78-80cd-cbd2396ea80c"
      },
      "source": [
        "sns.histplot(Prediction,kde=True)"
      ],
      "execution_count": 57,
      "outputs": [
        {
          "output_type": "execute_result",
          "data": {
            "text/plain": [
              "<matplotlib.axes._subplots.AxesSubplot at 0x7fbef40fb610>"
            ]
          },
          "metadata": {
            "tags": []
          },
          "execution_count": 57
        },
        {
          "output_type": "display_data",
          "data": {
            "image/png": "[encoded data removed]",
            "text/plain": [
              "<Figure size 432x288 with 1 Axes>"
            ]
          },
          "metadata": {
            "tags": [],
            "needs_background": "light"
          }
        }
      ]
    },
    {
      "cell_type": "code",
      "metadata": {
        "id": "XKHjUHzPC_9s"
      },
      "source": [
        ""
      ],
      "execution_count": null,
      "outputs": []
    }
  ]
}